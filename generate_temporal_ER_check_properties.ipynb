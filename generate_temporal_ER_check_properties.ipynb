{
 "cells": [
  {
   "cell_type": "code",
   "execution_count": 1,
   "id": "fca10ca4",
   "metadata": {},
   "outputs": [],
   "source": [
    "import graph_characteristics_lib as gc"
   ]
  },
  {
   "cell_type": "code",
   "execution_count": 2,
   "id": "c3ceffb6",
   "metadata": {},
   "outputs": [],
   "source": [
    "def read_graph(path,s, dire):\n",
    "    g = set()\n",
    "    f = open(path+s+\".csv\", \"r\")\n",
    "    sep = \" \"\n",
    "    for x in f:\n",
    "        x = x[:-1]\n",
    "        r = x.split(sep)\n",
    "    #     r = x.split(\"\\t\")\n",
    "        u,v,t = r[0],r[1],r[2]\n",
    "        if v != u:\n",
    "            t = float(t)\n",
    "            g.add( (u,v,int(t)) )\n",
    "            if dire == \"u\":\n",
    "                g.add( (v,u,int(t)) )\n",
    "    return g"
   ]
  },
  {
   "cell_type": "code",
   "execution_count": 3,
   "id": "8964b993",
   "metadata": {},
   "outputs": [],
   "source": [
    "def bernoulli(p):\n",
    "    x = randint(0,10^6)\n",
    "    if x < p*10^6:\n",
    "        return 1\n",
    "    else:\n",
    "        return 0\n",
    "#change the set V for large graphs\n",
    "def erdos_renyi_temp(n,tm,p, dire = True):\n",
    "    g = set()\n",
    "    V = list( [str(i) for i in range(n)] )\n",
    "    for t in range(1,tm+1):\n",
    "        for (a,b) in Combinations(V,2):\n",
    "            if bernoulli(p):\n",
    "                if bernoulli(0.5):\n",
    "                    g.add((a,b,t))\n",
    "                    if not dire:\n",
    "                        g.add((b,a,t))\n",
    "                        \n",
    "                else:\n",
    "                    g.add((b,a,t))\n",
    "                    if not dire:\n",
    "                        g.add((a,b,t))\n",
    "                        \n",
    "                    \n",
    "    return g"
   ]
  },
  {
   "cell_type": "code",
   "execution_count": 10,
   "id": "c938118a",
   "metadata": {},
   "outputs": [],
   "source": [
    "# n = 10\n",
    "# t = 10\n",
    "# p = 0.1\n",
    "# g = erdos_renyi_temp(n,t,p)\n",
    "# for e in g:\n",
    "#     print(e[0], e[1], e[2])\n",
    "# g = gc.to_undirected(g)"
   ]
  },
  {
   "cell_type": "code",
   "execution_count": 3,
   "id": "1fbbe715",
   "metadata": {},
   "outputs": [
    {
     "name": "stdout",
     "output_type": "stream",
     "text": [
      "nb problems 0\n",
      "average time naif 0.02588963508605957 average imp 0.0022041797637939453\n"
     ]
    }
   ],
   "source": [
    "#check clustering coeff\n",
    "import time\n",
    "N = 1\n",
    "n = 30\n",
    "t = 20\n",
    "p = 0.3\n",
    "nb_prob = 0\n",
    "t1 = 0\n",
    "t2 = 0\n",
    "for _ in range(N):\n",
    "#     print(\"**********************************************\")\n",
    "    g = erdos_renyi_temp(n,t,p)\n",
    "    st = time.time()\n",
    "    av = gc.average_clustering_network(g)\n",
    "    en = time.time()\n",
    "    t1 += (en - st)\n",
    "    st = time.time()\n",
    "    av2 = gc.average_clustering_network_imp(g)\n",
    "    en = time.time()\n",
    "    t2 += (en - st)\n",
    "    if abs(av-av2) > 10^(-2):\n",
    "        print(\"problem\", av, av2)\n",
    "        nb_prob += 1\n",
    "print(\"nb problems\", nb_prob)\n",
    "print(\"average time naif\", t1/N, \"average imp\", t2/N)"
   ]
  },
  {
   "cell_type": "code",
   "execution_count": 7,
   "id": "5500f088",
   "metadata": {},
   "outputs": [
    {
     "name": "stdout",
     "output_type": "stream",
     "text": [
      "E 1298 log E  7.2 T 140\n",
      "nmT 3634400 nmlog(m) 190000. ratio 0.051\n",
      "E 1270 log E  7.2 T 140\n",
      "nmT 3556000 nmlog(m) 190000. ratio 0.051\n",
      "E 1361 log E  7.2 T 140\n",
      "nmT 3810800 nmlog(m) 200000. ratio 0.051\n",
      "E 1339 log E  7.2 T 140\n",
      "nmT 3749200 nmlog(m) 200000. ratio 0.051\n",
      "E 1381 log E  7.2 T 140\n",
      "nmT 3866800 nmlog(m) 200000. ratio 0.051\n",
      "E 1307 log E  7.2 T 140\n",
      "nmT 3659600 nmlog(m) 200000. ratio 0.051\n",
      "nb problems 0\n",
      "average time naif 1.5576232274373372 average imp 1.2103772560755413\n"
     ]
    }
   ],
   "source": [
    "#check global efficiency shortest\n",
    "import time\n",
    "N = 6\n",
    "n = 20\n",
    "t = 140\n",
    "p = 0.05\n",
    "nb_prob = 0\n",
    "t1 = 0\n",
    "t2 = 0\n",
    "for _ in range(N):\n",
    "#     print(\"**********************************************\")\n",
    "    g = erdos_renyi_temp(n,t,p)\n",
    "    print(\"E\", len(g), \"log E \", log(len(g)).n(5), \"T\", t)\n",
    "    print(\"nmT\",n*len(g)*t, \"nmlog(m)\",(n*len(g)*log(len(g))).n(5), \"ratio\",((n*len(g)*log(len(g)))/(n*len(g)*t)).n(5) )\n",
    "    st = time.time()\n",
    "    av = gc.global_efficiency(g,\"s\")\n",
    "    en = time.time()\n",
    "    t1 += (en - st)\n",
    "    st = time.time()\n",
    "    av2 = gc.global_efficiency_imp(g,\"s\")\n",
    "    en = time.time()\n",
    "    t2 += (en - st)\n",
    "    if abs(av[0]-av2[0]) > 10^(-2):\n",
    "        print(\"problem\", av, av2)\n",
    "        nb_prob += 1\n",
    "print(\"nb problems\", nb_prob)\n",
    "print(\"average time naif\", t1/N, \"average imp\", t2/N)"
   ]
  },
  {
   "cell_type": "code",
   "execution_count": 8,
   "id": "e4b67edd",
   "metadata": {},
   "outputs": [
    {
     "name": "stdout",
     "output_type": "stream",
     "text": [
      "nb problems 0\n",
      "average time naif 3.26739768187205 average imp 2.381157914797465\n"
     ]
    }
   ],
   "source": [
    "#check global efficiency fastest\n",
    "for _ in range(N):\n",
    "#     print(\"**********************************************\")\n",
    "    g = erdos_renyi_temp(n,t,p)\n",
    "    st = time.time()\n",
    "    av = gc.global_efficiency(g,\"d\")\n",
    "    en = time.time()\n",
    "    t1 += (en - st)\n",
    "    st = time.time()\n",
    "    av2 = gc.global_efficiency_imp(g,\"d\")\n",
    "    en = time.time()\n",
    "    t2 += (en - st)\n",
    "    if abs(av[0]-av2[0]) > 10^(-2):\n",
    "        print(\"problem\", av, av2)\n",
    "        nb_prob += 1\n",
    "print(\"nb problems\", nb_prob)\n",
    "print(\"average time naif\", t1/N, \"average imp\", t2/N)"
   ]
  },
  {
   "cell_type": "code",
   "execution_count": null,
   "id": "608fcfde",
   "metadata": {},
   "outputs": [],
   "source": []
  }
 ],
 "metadata": {
  "kernelspec": {
   "display_name": "SageMath 9.5",
   "language": "sage",
   "name": "sagemath"
  },
  "language_info": {
   "codemirror_mode": {
    "name": "ipython",
    "version": 3
   },
   "file_extension": ".py",
   "mimetype": "text/x-python",
   "name": "python",
   "nbconvert_exporter": "python",
   "pygments_lexer": "ipython3",
   "version": "3.10.12"
  }
 },
 "nbformat": 4,
 "nbformat_minor": 5
}
