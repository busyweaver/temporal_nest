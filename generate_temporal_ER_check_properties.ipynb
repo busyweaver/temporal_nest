{
 "cells": [
  {
   "cell_type": "code",
   "execution_count": 1,
   "id": "fca10ca4",
   "metadata": {},
   "outputs": [],
   "source": [
    "import graph_characteristics_lib as gc"
   ]
  },
  {
   "cell_type": "code",
   "execution_count": 15,
   "id": "8964b993",
   "metadata": {},
   "outputs": [],
   "source": [
    "def bernoulli(p):\n",
    "    x = randint(0,10^6)\n",
    "    if x < p*10^6:\n",
    "        return 1\n",
    "    else:\n",
    "        return 0\n",
    "#change the set V for large graphs\n",
    "def erdos_renyi_temp(n,tm,p, dire = True):\n",
    "    g = set()\n",
    "    V = list( [str(i) for i in range(n)] )\n",
    "    for t in range(1,tm+1):\n",
    "        for (a,b) in Combinations(V,2):\n",
    "            if bernoulli(p):\n",
    "                if bernoulli(0.5):\n",
    "                    g.add((a,b,t))\n",
    "                    if not dire:\n",
    "                        g.add((b,a,t))\n",
    "                        \n",
    "                else:\n",
    "                    g.add((b,a,t))\n",
    "                    if not dire:\n",
    "                        g.add((a,b,t))\n",
    "                        \n",
    "                    \n",
    "    return g"
   ]
  },
  {
   "cell_type": "code",
   "execution_count": 16,
   "id": "1fbbe715",
   "metadata": {},
   "outputs": [
    {
     "name": "stdout",
     "output_type": "stream",
     "text": [
      "nb problems 0\n",
      "average time naif 0.024820804595947266 average imp 0.0019969940185546875\n"
     ]
    }
   ],
   "source": [
    "#check clustering coeff\n",
    "import time\n",
    "N = 1\n",
    "n = 30\n",
    "t = 20\n",
    "p = 0.3\n",
    "nb_prob = 0\n",
    "t1 = 0\n",
    "t2 = 0\n",
    "for _ in range(N):\n",
    "#     print(\"**********************************************\")\n",
    "    g = erdos_renyi_temp(n,t,p)\n",
    "    st = time.time()\n",
    "    av = gc.average_clustering_network(g)\n",
    "    en = time.time()\n",
    "    t1 += (en - st)\n",
    "    st = time.time()\n",
    "    av2 = gc.average_clustering_network_imp(g)\n",
    "    en = time.time()\n",
    "    t2 += (en - st)\n",
    "    if abs(av-av2) > 10^(-2):\n",
    "        print(\"problem\", av, av2)\n",
    "        nb_prob += 1\n",
    "print(\"nb problems\", nb_prob)\n",
    "print(\"average time naif\", t1/N, \"average imp\", t2/N)"
   ]
  },
  {
   "cell_type": "code",
   "execution_count": 23,
   "id": "94240c11",
   "metadata": {},
   "outputs": [
    {
     "name": "stdout",
     "output_type": "stream",
     "text": [
      "E 4220 log E  8.5 T 70\n",
      "nmT 14770000 nmlog(m) 1.8e6 ratio 0.12\n",
      "E 4268 log E  8.5 T 70\n",
      "nmT 14938000 nmlog(m) 1.8e6 ratio 0.12\n",
      "nb problems 0\n",
      "average time naif 13.164488315582275 average imp 16.94235897064209\n"
     ]
    }
   ],
   "source": [
    "#check global efficiency shortest\n",
    "import time\n",
    "N = 2\n",
    "n = 50\n",
    "t = 70\n",
    "p = 0.05\n",
    "nb_prob = 0\n",
    "t1 = 0\n",
    "t2 = 0\n",
    "for _ in range(N):\n",
    "#     print(\"**********************************************\")\n",
    "    g = erdos_renyi_temp(n,t,p)\n",
    "    print(\"E\", len(g), \"log E \", log(len(g)).n(5), \"T\", t)\n",
    "    print(\"nmT\",n*len(g)*t, \"nmlog(m)\",(n*len(g)*log(len(g))).n(5), \"ratio\",((n*len(g)*log(len(g)))/(n*len(g)*t)).n(5) )\n",
    "    st = time.time()\n",
    "    av = gc.global_efficiency(g,\"s\")\n",
    "    en = time.time()\n",
    "    t1 += (en - st)\n",
    "    st = time.time()\n",
    "    av2 = gc.global_efficiency_imp(g,\"s\")\n",
    "    en = time.time()\n",
    "    t2 += (en - st)\n",
    "    if abs(av[0]-av2[0]) > 10^(-2):\n",
    "        print(\"problem\", av, av2)\n",
    "        nb_prob += 1\n",
    "print(\"nb problems\", nb_prob)\n",
    "print(\"average time naif\", t1/N, \"average imp\", t2/N)"
   ]
  },
  {
   "cell_type": "code",
   "execution_count": null,
   "id": "7620b13f",
   "metadata": {},
   "outputs": [],
   "source": [
    "#check global efficiency fastest\n",
    "import time\n",
    "N = 1\n",
    "n = 30\n",
    "t = 20\n",
    "p = 0.3\n",
    "nb_prob = 0\n",
    "t1 = 0\n",
    "t2 = 0\n",
    "for _ in range(N):\n",
    "#     print(\"**********************************************\")\n",
    "    g = erdos_renyi_temp(n,t,p)\n",
    "    st = time.time()\n",
    "    av = gc.global_efficiency(g,\"d\")\n",
    "    en = time.time()\n",
    "    t1 += (en - st)\n",
    "    st = time.time()\n",
    "    av2 = gc.global_efficiency_imp(g,\"d\")\n",
    "    en = time.time()\n",
    "    t2 += (en - st)\n",
    "    if abs(av[0]-av2[0]) > 10^(-2):\n",
    "        print(\"problem\", av, av2)\n",
    "        nb_prob += 1\n",
    "print(\"nb problems\", nb_prob)\n",
    "print(\"average time naif\", t1/N, \"average imp\", t2/N)"
   ]
  }
 ],
 "metadata": {
  "kernelspec": {
   "display_name": "SageMath 9.5",
   "language": "sage",
   "name": "sagemath"
  },
  "language_info": {
   "codemirror_mode": {
    "name": "ipython",
    "version": 3
   },
   "file_extension": ".py",
   "mimetype": "text/x-python",
   "name": "python",
   "nbconvert_exporter": "python",
   "pygments_lexer": "ipython3",
   "version": "3.10.12"
  }
 },
 "nbformat": 4,
 "nbformat_minor": 5
}
