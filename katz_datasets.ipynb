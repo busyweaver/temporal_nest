{
 "cells": [
  {
   "cell_type": "code",
   "execution_count": 3,
   "id": "95ce607b",
   "metadata": {},
   "outputs": [],
   "source": [
    "import numpy as np\n",
    "\n",
    "from tnestmodel.temp_fast_graph import SparseTempFastGraph\n",
    "from tnestmodel.temp_centralities import calc_temp_katz_iter\n",
    "\n",
    "edges = np.array([[0, 1, 1], [1, 2, 2]])\n",
    "\n",
    "G = SparseTempFastGraph.from_temporal_edges(edges, is_directed=False)\n",
    "\n",
    "katz = calc_temp_katz_iter(G, alpha=1/2, kind=\"broadcast\")"
   ]
  },
  {
   "cell_type": "code",
   "execution_count": 4,
   "id": "881b1f48",
   "metadata": {},
   "outputs": [
    {
     "data": {
      "text/plain": [
       "array([2.66666667, 3.33333333, 2.        ])"
      ]
     },
     "execution_count": 4,
     "metadata": {},
     "output_type": "execute_result"
    }
   ],
   "source": [
    "katz"
   ]
  },
  {
   "cell_type": "code",
   "execution_count": null,
   "id": "081b2624",
   "metadata": {},
   "outputs": [],
   "source": []
  }
 ],
 "metadata": {
  "kernelspec": {
   "display_name": "Python 3 (ipykernel)",
   "language": "python",
   "name": "python3"
  },
  "language_info": {
   "codemirror_mode": {
    "name": "ipython",
    "version": 3
   },
   "file_extension": ".py",
   "mimetype": "text/x-python",
   "name": "python",
   "nbconvert_exporter": "python",
   "pygments_lexer": "ipython3",
   "version": "3.10.12"
  }
 },
 "nbformat": 4,
 "nbformat_minor": 5
}
