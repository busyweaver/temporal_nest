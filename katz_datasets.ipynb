{
 "cells": [
  {
   "cell_type": "code",
   "execution_count": 2,
   "id": "c556b93e",
   "metadata": {},
   "outputs": [],
   "source": [
    "import graph_characteristics_lib as gc\n",
    "import numpy as np\n",
    "from tnestmodel.temp_fast_graph import SparseTempFastGraph\n",
    "from tnestmodel.temp_centralities import calc_temp_katz_iter"
   ]
  },
  {
   "cell_type": "code",
   "execution_count": 20,
   "id": "95ce607b",
   "metadata": {},
   "outputs": [
    {
     "data": {
      "text/plain": [
       "array([2.66666667, 3.33333333, 2.        ])"
      ]
     },
     "execution_count": 20,
     "metadata": {},
     "output_type": "execute_result"
    }
   ],
   "source": [
    "# edges = np.array([[0, 1, 1], [1, 2, 2]])\n",
    "\n",
    "# G = SparseTempFastGraph.from_temporal_edges(edges, is_directed=False)\n",
    "\n",
    "# katz = calc_temp_katz_iter(G, alpha=1/2, kind=\"broadcast\")\n",
    "# katz"
   ]
  },
  {
   "cell_type": "code",
   "execution_count": 8,
   "id": "b04af1bf",
   "metadata": {},
   "outputs": [],
   "source": [
    "names = [ [\"dnc\",\"dnc\",\"crimson\",\"d\"] , [\"fb-forum\", \"fb\", \"green\",\"d\"], [\"talk_eo\", \"eo\" ,\"olive\",\"d\"],\n",
    "          [\"email-eu3\", \"eu3\", \"yellow\",\"d\"], [\"email-eu2\", \"eu2\", \"magenta\",\"d\"], \n",
    "          [\"racoon\", \"rac\", \"brown\",\"u\"], [\"primate\",\"pri\",  \"blue\",\"u\"],  [\"workplace_2013\", \"wp\", \"black\",\"u\"],\n",
    "           [\"ht09\", \"ht\",\"red\",\"u\"], [\"weaver\", \"wea\",  \"pink\",\"u\"] ]"
   ]
  },
  {
   "cell_type": "code",
   "execution_count": 16,
   "id": "081b2624",
   "metadata": {},
   "outputs": [],
   "source": [
    "def read_dic(s):\n",
    "    with open(s+\".pkl\", 'rb') as f:\n",
    "        d = pickle.load(f)\n",
    "    return d\n",
    "\n",
    "def find_sep(x):\n",
    "    for s in x:\n",
    "        if s not in ['0','1','2','3','4','5','6','7','8','9']:\n",
    "            return s\n",
    "    return None\n",
    "\n",
    "def read_graph(path,s, dire):\n",
    "    g = set()\n",
    "    f = open(path+s, \"r\")\n",
    "    sep = find_sep(f.readline())\n",
    "    f.close()\n",
    "    f = open(path+s, \"r\")\n",
    "    for x in f:\n",
    "        x = x[:-1]\n",
    "        r = x.split(sep)\n",
    "        u,v,t = r[0],r[1],r[2]\n",
    "        if v != u:\n",
    "            t = float(t)\n",
    "            g.add( (u,v,int(t)) )\n",
    "            if dire == \"u\":\n",
    "                g.add( (v,u,int(t)) )\n",
    "    return g\n",
    "\n",
    "def SAE(s,s2):\n",
    "    l = list(map(lambda x : x[0], s.tolist()))\n",
    "    l2 = list(map(lambda x : x[0], s2.tolist()))\n",
    "    val = 0\n",
    "    for i in range(len(l)):\n",
    "        val += abs( l[i] - l2[i] )\n",
    "    return val/len(l)"
   ]
  },
  {
   "cell_type": "code",
   "execution_count": 15,
   "id": "634682c8",
   "metadata": {},
   "outputs": [],
   "source": [
    "fold_d = \"datasets/networks/\"\n",
    "folder = \"values_graphs/\"\n",
    "dep = 6\n",
    "d = dict()\n",
    "for i in range(len(names)):\n",
    "#     cur = fold_d + names[i][0]+\".csv\"\n",
    "    d[names[i][1]] = dict()\n",
    "    g = read_graph(fold_d,names[i][0]+\".csv\", names[i][-1])\n",
    "    V = list(gc.nodes(g))\n",
    "    dv = dict()\n",
    "    for j in range(len(V)):\n",
    "        dv[V[j]] = j\n",
    "    new_g = [  [dv[e[0]],dv[e[1]],e[2]]    for e in g ]\n",
    "    edges = np.array(new_g)\n",
    "    G = SparseTempFastGraph.from_temporal_edges(edges, is_directed=names[i][-1])\n",
    "    s = calc_temp_katz_iter(G, alpha=0.01, kind=\"broadcast\")\n",
    "    z = 1\n",
    "    col = None\n",
    "    while z <= dep:\n",
    "        nam = folder+names[i][1]+\"_1_\"+str(z)\n",
    "        if os.path.isfile(nam+\".pkl\"):\n",
    "            col = read_dic(nam)\n",
    "            \n",
    "            \n",
    "        if z == 0:\n",
    "            g2 = gc.rewire_any(g,len(g)*math.ceil(math.log(len(g))),{ (v,t):1 for v in gc.nodes(g) for t in gc.events(g) },direc)\n",
    "        else:\n",
    "            g2 = gc.rewire_any(g,len(g)*math.ceil(math.log(len(g))),col,names[i][-1])\n",
    "            \n",
    "        V = list(gc.nodes(g2))\n",
    "        dv = dict()\n",
    "        for j in range(len(V)):\n",
    "            dv[V[j]] = j\n",
    "        new_g = [  [dv[e[0]],dv[e[1]],e[2]]    for e in g2 ]\n",
    "        edges = np.array(new_g)\n",
    "        edges = np.array(new_g)\n",
    "        G = SparseTempFastGraph.from_temporal_edges(edges, is_directed=names[i][-1])\n",
    "        s2 = calc_temp_katz_iter(G, alpha=0.01, kind=\"broadcast\")\n",
    "        d[names[i][1]][z] = SAE(s,s2)\n",
    "        \n",
    "        z += 1\n",
    "    "
   ]
  },
  {
   "cell_type": "code",
   "execution_count": null,
   "id": "6ef52d25",
   "metadata": {},
   "outputs": [],
   "source": [
    "import matplotlib.pyplot as plt\n",
    "import numpy as np\n",
    "\n",
    "# evenly sampled time at 200ms intervals\n",
    "x = [  de for de in range(0,dep+1) ]\n",
    "x.sort()\n",
    "y = dict()\n",
    "\n",
    "for n in d.keys():\n",
    "    for de in d[n].keys():\n",
    "        if n not in y:\n",
    "            y[n] = []\n",
    "        y[n].append(d[n][de])\n",
    "        \n",
    "# red dashes, blue squares and green triangles\n",
    "for n in y.keys():\n",
    "    plt.plot(x,y[n],label=n)\n",
    "plt.yscale(\"log\")\n",
    "plt.xlabel(\"depth\")\n",
    "plt.ylabel(\"SAE\")\n",
    "plt.title('Katz Centrality')\n",
    "plt.legend()\n",
    "plt.savefig('katz.png', dpi=300)\n",
    "plt.show()"
   ]
  }
 ],
 "metadata": {
  "kernelspec": {
   "display_name": "Python 3 (ipykernel)",
   "language": "python",
   "name": "python3"
  },
  "language_info": {
   "codemirror_mode": {
    "name": "ipython",
    "version": 3
   },
   "file_extension": ".py",
   "mimetype": "text/x-python",
   "name": "python",
   "nbconvert_exporter": "python",
   "pygments_lexer": "ipython3",
   "version": "3.10.12"
  }
 },
 "nbformat": 4,
 "nbformat_minor": 5
}
