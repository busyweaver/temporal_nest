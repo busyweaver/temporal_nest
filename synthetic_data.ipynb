{
 "cells": [
  {
   "cell_type": "code",
   "execution_count": 1,
   "id": "fca10ca4",
   "metadata": {},
   "outputs": [],
   "source": [
    "import graph_characteristics_lib as gc"
   ]
  },
  {
   "cell_type": "code",
   "execution_count": 3,
   "id": "8964b993",
   "metadata": {},
   "outputs": [],
   "source": [
    "def bernoulli(p):\n",
    "    x = randint(0,10^6)\n",
    "    if x < p*10^6:\n",
    "        return 1\n",
    "    else:\n",
    "        return 0\n",
    "#change the set V for large graphs\n",
    "def erdos_renyi_temp(n,tm,p, dire = True):\n",
    "    g = set()\n",
    "    V = list( [str(i) for i in range(n)] )\n",
    "    for t in range(1,tm+1):\n",
    "        for (a,b) in Combinations(V,2):\n",
    "            if bernoulli(p):\n",
    "                if bernoulli(0.5):\n",
    "                    g.add((a,b,t))\n",
    "                    if not dire:\n",
    "                        g.add((b,a,t))\n",
    "                        \n",
    "                else:\n",
    "                    g.add((b,a,t))\n",
    "                    if not dire:\n",
    "                        g.add((a,b,t))\n",
    "                        \n",
    "                    \n",
    "    return g"
   ]
  },
  {
   "cell_type": "code",
   "execution_count": 16,
   "id": "687baec5",
   "metadata": {},
   "outputs": [],
   "source": [
    "import numpy as np\n",
    "def temp_to_matrices(g):\n",
    "    no = gc.nodes(g)\n",
    "    l_nodes = list(no)\n",
    "    l_nodes.sort()\n",
    "    t_max = max(gc.events(g))\n",
    "    res = [  np.matrix([ [0 for i in range(len(no))] for j in range(len(no))  ]) for ii in range(t_max)   ]\n",
    "    for (a,b,t) in g:\n",
    "        res[t-1][l_nodes.index(a),l_nodes.index(b)] = 1\n",
    "        res[t-1][l_nodes.index(b),l_nodes.index(a)] = 1\n",
    "    return res\n",
    "from numpy.linalg import inv,eig\n",
    "import functools\n",
    "def mats_to_q(mats,alpha=-1):\n",
    "    rho = max([ max(list(eig(e)[0]))  for e in mats ])\n",
    "    if alpha == -1:\n",
    "        alpha = 1/(2*rho)\n",
    "    id_mat = np.matrix( [   [0 if i!=j else 1 for j in range(len(mats[0])) ] for i in range(len(mats[0]))  ])\n",
    "    return functools.reduce(np.matmul,list(map( lambda x : inv(id_mat-alpha*x), mats )))\n",
    "\n",
    "def mats_to_q2(mats,alpha=-1):\n",
    "    rho = max([ max(list(eig(e)[0]))  for e in mats ])\n",
    "    if alpha == -1:\n",
    "        alpha = 1/(2*rho)\n",
    "    id_mat = np.matrix( [   [0 if i!=j else 1 for j in range(len(mats[0])) ] for i in range(len(mats[0]))  ])\n",
    "    res = id_mat\n",
    "    for i in range(len(mats)):\n",
    "        res = np.matmul(res, mats[i])        \n",
    "    return res\n",
    "\n",
    "def mats_eigen(mats):\n",
    "    return functools.reduce(np.matmul,list(map( lambda x : x.transpose(), mats )))\n",
    "\n",
    "def mats_auth(mats):\n",
    "    return functools.reduce(np.matmul,list(map( lambda x : x.transpose()*x, mats )))\n",
    "\n",
    "def mats_hubs(mats):\n",
    "    return functools.reduce(np.matmul,list(map( lambda x : x*x.transpose(), mats )))"
   ]
  },
  {
   "cell_type": "code",
   "execution_count": 17,
   "id": "25d66ec8",
   "metadata": {},
   "outputs": [],
   "source": [
    "n = 10\n",
    "T = 7\n",
    "p = 5/(n*T)"
   ]
  },
  {
   "cell_type": "code",
   "execution_count": 19,
   "id": "df00908d",
   "metadata": {},
   "outputs": [
    {
     "name": "stdout",
     "output_type": "stream",
     "text": [
      "begin all neigbour\n",
      "end all neigbour\n",
      "iteration 2\n",
      "iteration 3\n",
      "iteration 4\n"
     ]
    }
   ],
   "source": [
    "g = erdos_renyi_temp(n,T,p,dire = False)\n",
    "mats = temp_to_matrices(g)\n",
    "q = mats_to_q(mats)\n",
    "_, col, _, _ = gc.weisfeiler_lehman_graph_hash(g)"
   ]
  },
  {
   "cell_type": "code",
   "execution_count": null,
   "id": "244a7fef",
   "metadata": {},
   "outputs": [],
   "source": []
  }
 ],
 "metadata": {
  "kernelspec": {
   "display_name": "SageMath 9.5",
   "language": "sage",
   "name": "sagemath"
  },
  "language_info": {
   "codemirror_mode": {
    "name": "ipython",
    "version": 3
   },
   "file_extension": ".py",
   "mimetype": "text/x-python",
   "name": "python",
   "nbconvert_exporter": "python",
   "pygments_lexer": "ipython3",
   "version": "3.10.12"
  }
 },
 "nbformat": 4,
 "nbformat_minor": 5
}
