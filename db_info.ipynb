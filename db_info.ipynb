{
 "cells": [
  {
   "cell_type": "code",
   "execution_count": 1,
   "id": "70ec280b",
   "metadata": {},
   "outputs": [
    {
     "name": "stderr",
     "output_type": "stream",
     "text": [
      "/home/mehdi/.sage/local/lib/python3.10/site-packages/matplotlib/projections/__init__.py:63: UserWarning: Unable to import Axes3D. This may be due to multiple versions of Matplotlib being installed (e.g. as a system package and as a pip package). As a result, the 3D projection is not available.\n",
      "  warnings.warn(\"Unable to import Axes3D. This may be due to multiple versions of \"\n"
     ]
    }
   ],
   "source": [
    "import graph_characteristics_lib as gc"
   ]
  },
  {
   "cell_type": "code",
   "execution_count": 2,
   "id": "487482da",
   "metadata": {},
   "outputs": [],
   "source": [
    "names = [ [\"weaver\", \"wea\",  \"pink\",\"u\"], [\"ht09\", \"ht\",\"red\",\"u\"], [\"workplace_2013\", \"wp\", \"black\",\"u\"], [\"primate\",\"pri\",  \"blue\",\"u\"], [\"racoon\", \"rac\", \"brown\",\"u\"], [\"talk_eo\", \"eo\" ,\"olive\",\"d\"], [\"dnc\",\"dnc\",\"crimson\",\"d\"] , [\"fb-forum\", \"fb\", \"green\",\"d\"], \n",
    "          [\"email-eu2\", \"eu2\", \"magenta\",\"d\"], [\"email-eu3\", \"eu3\", \"yellow\",\"d\"]     ]"
   ]
  },
  {
   "cell_type": "code",
   "execution_count": 3,
   "id": "8c7e6d93",
   "metadata": {},
   "outputs": [],
   "source": [
    "def find_sep(x):\n",
    "    for s in x:\n",
    "        if s not in ['0','1','2','3','4','5','6','7','8','9']:\n",
    "            return s\n",
    "    return None\n",
    "\n",
    "def read_graph(path,s, dire):\n",
    "    g = set()\n",
    "    f = open(path+s+\".csv\", \"r\")\n",
    "    sep = find_sep(f.readline())\n",
    "    f.close()\n",
    "    f = open(path+s+\".csv\", \"r\")\n",
    "    for x in f:\n",
    "        x = x[:-1]\n",
    "        r = x.split(sep)\n",
    "        u,v,t = r[0],r[1],r[2]\n",
    "        if v != u:\n",
    "            t = float(t)\n",
    "            g.add( (u,v,int(t)) )\n",
    "            if dire == \"u\":\n",
    "                g.add( (v,u,int(t)) )\n",
    "    return g\n",
    "\n",
    "def write_graph(path, s, g):\n",
    "    f = open(path+s+\".csv\", \"w\")\n",
    "    for x in g:\n",
    "        f.write( str(x) )\n",
    "    f.close()"
   ]
  },
  {
   "cell_type": "code",
   "execution_count": 44,
   "id": "d91807da",
   "metadata": {},
   "outputs": [],
   "source": [
    "def human_format(num):\n",
    "    num = float('{:.3g}'.format(num))\n",
    "    magnitude = 0\n",
    "    while abs(num) >= 1000:\n",
    "        magnitude += 1\n",
    "        num /= 1000.0\n",
    "    return '{}{}'.format('{:f}'.format(num).rstrip('0').rstrip('.'), ['', 'K', 'M', 'B', 'T'][magnitude])"
   ]
  },
  {
   "cell_type": "code",
   "execution_count": 45,
   "id": "1b5c5d0c",
   "metadata": {},
   "outputs": [
    {
     "data": {
      "text/plain": [
       "'22.3K'"
      ]
     },
     "execution_count": 45,
     "metadata": {},
     "output_type": "execute_result"
    }
   ],
   "source": [
    "human_format(22255)"
   ]
  },
  {
   "cell_type": "code",
   "execution_count": 10,
   "id": "f6b0aab4",
   "metadata": {},
   "outputs": [],
   "source": [
    "fold_d = \"datasets/networks/\""
   ]
  },
  {
   "cell_type": "code",
   "execution_count": 46,
   "id": "ef0c4b63",
   "metadata": {},
   "outputs": [
    {
     "name": "stdout",
     "output_type": "stream",
     "text": [
      "[[('d', 1866), 'dnc', 'dnc', 'crimson', 'd'], [('d', 899), 'fb-forum', 'fb', 'green', 'd'], [('d', 7288), 'talk_eo', 'eo', 'olive', 'd'], [('d', 89), 'email-eu3', 'eu3', 'yellow', 'd'], [('d', 162), 'email-eu2', 'eu2', 'magenta', 'd'], [('u', 24), 'racoon', 'rac', 'brown', 'u'], [('u', 25), 'primate', 'pri', 'blue', 'u'], [('u', 92), 'workplace_2013', 'wp', 'black', 'u'], [('u', 113), 'ht09', 'ht', 'red', 'u'], [('u', 445), 'weaver', 'wea', 'pink', 'u']]\n",
      "[['weaver', 'wea', 'pink', 'u'], ['ht09', 'ht', 'red', 'u'], ['workplace_2013', 'wp', 'black', 'u'], ['primate', 'pri', 'blue', 'u'], ['racoon', 'rac', 'brown', 'u'], ['talk_eo', 'eo', 'olive', 'd'], ['dnc', 'dnc', 'crimson', 'd'], ['fb-forum', 'fb', 'green', 'd'], ['email-eu2', 'eu2', 'magenta', 'd'], ['email-eu3', 'eu3', 'yellow', 'd']]\n",
      "weaver &  wea & u & $ 445 $ & $ 23 $ & $ 2666 $ \\\\\n",
      "ht09 &  ht & u & $ 113 $ & $ 5246 $ & $ 41636 $ \\\\\n",
      "workplace_2013 &  wp & u & $ 92 $ & $ 7104 $ & $ 19654 $ \\\\\n",
      "primate &  pri & u & $ 25 $ & $ 19 $ & $ 2680 $ \\\\\n",
      "racoon &  rac & u & $ 24 $ & $ 52 $ & $ 3994 $ \\\\\n",
      "talk_eo &  eo & d & $ 7288 $ & $ 32352 $ & $ 37003 $ \\\\\n",
      "dnc &  dnc & d & $ 1866 $ & $ 18682 $ & $ 31727 $ \\\\\n",
      "fb-forum &  fb & d & $ 899 $ & $ 33483 $ & $ 33682 $ \\\\\n",
      "email-eu2 &  eu2 & d & $ 162 $ & $ 32340 $ & $ 46010 $ \\\\\n",
      "email-eu3 &  eu3 & d & $ 89 $ & $ 8911 $ & $ 12051 $ \\\\\n"
     ]
    }
   ],
   "source": [
    "for i in range(len(names)):\n",
    "    cur = fold_d + names[i][0]+\".csv\"\n",
    "    g = read_graph(fold_d,names[i][0], names[i][-1])\n",
    "#     print(names[i][0], nb_nodes(cur),nb_time_events(cur),nb_edges(cur))\n",
    "    count = (names[i][-1],len(gc.nodes(g)))\n",
    "#     count = nb_time_events(cur)\n",
    "    names[i].insert(0,count)\n",
    "print(names)\n",
    "names.sort(reverse = True)\n",
    "names = [ names[i][1:] for i in range(len(names))  ]\n",
    "print(names)\n",
    "for i in range(len(names)):\n",
    "    g = read_graph(fold_d,names[i][0], names[i][-1])\n",
    "    print(names[i][0], \"& \",names[i][1], \"&\" ,names[i][-1],   \"& $\", len(gc.nodes(g)), \"$ & $\", len(gc.events(g)), \"$ & $\" ,len(g), \"$ \\\\\\\\\")"
   ]
  },
  {
   "cell_type": "code",
   "execution_count": 15,
   "id": "dec979de",
   "metadata": {},
   "outputs": [],
   "source": [
    "def find_names(x):\n",
    "    s = \"\"\n",
    "    for i in range(len(x)):\n",
    "        e = x[i]\n",
    "        if (ord(e) >= ord('a') and ord('z') >= ord(e)) or (ord(e) >= ord('A') and ord('Z') >= ord(e)) or (ord(e)>= ord('0') and ord('9')>=ord(e)) or e == '-' or e == '_':\n",
    "            s += e\n",
    "        else:\n",
    "            break\n",
    "    return s,i\n",
    "        \n",
    "def read_next_number(x,i):\n",
    "    num = \"\"\n",
    "    while (i < len(x)) and (not ((ord(x[i]) >= ord('0') and ord('9') >= ord(x[i]) ))):\n",
    "        i += 1\n",
    "    if i >= len(x):\n",
    "        return False\n",
    "    \n",
    "    #first part\n",
    "    while (ord(x[i]) >= ord('0') and ord('9') >= ord(x[i]) ):\n",
    "        num += x[i]\n",
    "        i += 1\n",
    "    if (x[i] != '.'):\n",
    "        return float(num), i+1\n",
    "    else:\n",
    "        num += '.'\n",
    "        i += 1\n",
    "        \n",
    "    #second part\n",
    "    while (ord(x[i]) >= ord('0') and ord('9') >= ord(x[i]) ):\n",
    "        num += x[i]\n",
    "        i += 1\n",
    "    return float(num), i+1\n",
    "    \n",
    "def add_line(x,st = 0):\n",
    "    l = []\n",
    "    nb,ind = read_next_number(x,st)\n",
    "    l.append(nb)\n",
    "    while True:\n",
    "        res = read_next_number(x,ind)\n",
    "        if type(res) != bool:\n",
    "            nb,ind = res\n",
    "            l.append(nb)\n",
    "        else:\n",
    "            break\n",
    "    return l\n",
    "    \n",
    "def read_tex(s):\n",
    "    f = open(s,\"r\")\n",
    "    d = dict()\n",
    "    i = 0\n",
    "    for x in f:\n",
    "        av = []\n",
    "        dev = []\n",
    "        x = x[:-1]\n",
    "        if i%2 == 0:\n",
    "            nam,ind = find_names(x)\n",
    "            d[nam] = dict()\n",
    "        if i%2 == 0:\n",
    "            d[nam][\"av\"] = add_line(x,ind)  \n",
    "        else:\n",
    "            d[nam][\"dev\"] = add_line(x)\n",
    "        i += 1\n",
    "    f.close()\n",
    "    return d"
   ]
  },
  {
   "cell_type": "code",
   "execution_count": 16,
   "id": "1a71bd27",
   "metadata": {},
   "outputs": [],
   "source": [
    "def renorm_d(names,d):\n",
    "    for i in range(len(names)):\n",
    "        cur = fold_d + names[i][0]+\".csv\"\n",
    "        g = read_graph(fold_d,names[i][0], names[i][-1])\n",
    "        V = gc.nodes(g)\n",
    "        T = gc.events(g)\n",
    "        for j in range(len(d[names[i][1]][\"av\"])):\n",
    "            d[names[i][1]][\"av\"][j] = d[names[i][1]][\"av\"][j]/(len(V)*len(T))\n",
    "        for j in range(len(d[names[i][1]][\"dev\"])):\n",
    "            d[names[i][1]][\"dev\"][j] = d[names[i][1]][\"dev\"][j]/(len(V)*len(T))\n",
    "    return d"
   ]
  },
  {
   "cell_type": "code",
   "execution_count": 17,
   "id": "0a02aeea",
   "metadata": {},
   "outputs": [],
   "source": [
    "# d = read_tex(\"table_charac__clus.tex\")"
   ]
  },
  {
   "cell_type": "code",
   "execution_count": 18,
   "id": "6e98c166",
   "metadata": {},
   "outputs": [],
   "source": [
    "d = read_tex(\"table_charac__tri.tex\")"
   ]
  },
  {
   "cell_type": "code",
   "execution_count": 19,
   "id": "4cca2747",
   "metadata": {},
   "outputs": [],
   "source": [
    "d = renorm_d(names,d)"
   ]
  },
  {
   "cell_type": "code",
   "execution_count": 20,
   "id": "39e03c87",
   "metadata": {},
   "outputs": [],
   "source": [
    "def format_d(d, names):\n",
    "    for e in names:\n",
    "        print(e[1]+\" & \", end = \"\")\n",
    "        val = d[e[1]][\"av\"][0]\n",
    "        closest = min( list(map( lambda x : abs(val-x) ,d[e[1]][\"av\"][1:])) )\n",
    "        for j in range(len((d[e[1]][\"av\"]))):\n",
    "            ee = d[e[1]][\"av\"][j]\n",
    "            dev = d[e[1]][\"dev\"][j]\n",
    "            if abs(val-ee) == closest and j > 0:\n",
    "                print( '$\\mathbf{ '+'{:.3f}'.format(ee)+' ('+ '{:.3f}'.format(dev) +') } $ & ', end = \"\" )\n",
    "            else:\n",
    "                if j>0:\n",
    "                    print( '$'+'{:.3f}'.format(ee)+' ( '+ '{:.3f}'.format(dev) +')$ & ', end = \"\" )\n",
    "                else:\n",
    "                    print( '$'+'{:.3f}'.format(ee)+'$ & ', end = \"\" )\n",
    "                    \n",
    "        print(\"\\\\\\\\\")"
   ]
  },
  {
   "cell_type": "code",
   "execution_count": 21,
   "id": "ca133869",
   "metadata": {},
   "outputs": [
    {
     "name": "stdout",
     "output_type": "stream",
     "text": [
      "wea & $0.201$ & $\\mathbf{ 0.201 (0.000) } $ & $0.185 ( 0.001)$ & $0.126 ( 0.001)$ & $0.008 ( 0.001)$ & \\\\\n",
      "ht & $157.176$ & $\\mathbf{ 157.178 (0.003) } $ & $157.170 ( 0.012)$ & $78.036 ( 0.613)$ & $75.077 ( 0.468)$ & \\\\\n",
      "wp & $35.808$ & $\\mathbf{ 35.808 (0.000) } $ & $\\mathbf{ 35.808 (0.000) } $ & $21.577 ( 0.315)$ & $14.292 ( 0.205)$ & \\\\\n",
      "pri & $782.368$ & $\\mathbf{ 782.303 (0.151) } $ & $782.577 ( 0.093)$ & $773.042 ( 2.214)$ & $744.256 ( 4.664)$ & \\\\\n",
      "rac & $1151.350$ & $\\mathbf{ 1151.350 (0.000) } $ & $1150.965 ( 0.306)$ & $1142.305 ( 4.029)$ & $1114.492 ( 4.068)$ & \\\\\n",
      "eo & $0.078$ & $\\mathbf{ 0.076 (0.000) } $ & $0.075 ( 0.000)$ & $0.000 ( 0.000)$ & $0.000 ( 0.000)$ & \\\\\n",
      "dnc & $0.974$ & $\\mathbf{ 0.966 (0.000) } $ & $0.937 ( 0.003)$ & $0.000 ( 0.000)$ & $0.000 ( 0.000)$ & \\\\\n",
      "fb & $0.001$ & $\\mathbf{ 0.001 (0.000) } $ & $0.001 ( 0.000)$ & $0.000 ( 0.000)$ & $0.000 ( 0.000)$ & \\\\\n",
      "eu2 & $145.531$ & $\\mathbf{ 145.093 (0.034) } $ & $134.924 ( 0.242)$ & $0.672 ( 0.021)$ & $0.700 ( 0.012)$ & \\\\\n",
      "eu3 & $4.518$ & $\\mathbf{ 4.478 (0.007) } $ & $3.939 ( 0.032)$ & $0.494 ( 0.018)$ & $0.503 ( 0.019)$ & \\\\\n"
     ]
    }
   ],
   "source": [
    "format_d(d, names)"
   ]
  },
  {
   "cell_type": "code",
   "execution_count": null,
   "id": "577f1717",
   "metadata": {},
   "outputs": [],
   "source": [
    "# exact values\n",
    "#   wea & 445 & 23 & 2666 & 4  & 33 & 6399\\\\ \n",
    "#     ht  & 113 & 5246 & 41636 & 4  & 1 & 698\\\\\n",
    "#     wp  & 92 & 7104 & 19654 & 4  & 0 & 42\\\\ \n",
    "#     pri  & 25 & 19 & 2680 & 2  & 17 & 584\\\\ \n",
    "#     rac  & 24 & 52 & 3994 & 3  & 0 & 706\\\\ \n",
    "#     eo  & 7288 & 32352 & 37003 & 3  & 98741774 &  99134724 \\\\\n",
    "# dnc  & 1866 & 18682 & 31727 & 4  & 9899679 & 10150188\\\\ \n",
    "# fb  & 899 & 33483 & 33682 & 4 &  5583307 & 6196833\\\\\n",
    "# eu2  & 162 & 32340 & 46010 & 4  & 66021 & 86242\\\\ \n",
    "# eu3  & 89 & 8911 & 12051 & 4 &  16133 & 22255\\\\ "
   ]
  }
 ],
 "metadata": {
  "kernelspec": {
   "display_name": "Python 3 (ipykernel)",
   "language": "python",
   "name": "python3"
  },
  "language_info": {
   "codemirror_mode": {
    "name": "ipython",
    "version": 3
   },
   "file_extension": ".py",
   "mimetype": "text/x-python",
   "name": "python",
   "nbconvert_exporter": "python",
   "pygments_lexer": "ipython3",
   "version": "3.10.12"
  }
 },
 "nbformat": 4,
 "nbformat_minor": 5
}
