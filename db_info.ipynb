{
 "cells": [
  {
   "cell_type": "code",
   "execution_count": 64,
   "id": "70ec280b",
   "metadata": {},
   "outputs": [],
   "source": [
    "import graph_characteristics_lib as gc"
   ]
  },
  {
   "cell_type": "code",
   "execution_count": 65,
   "id": "487482da",
   "metadata": {},
   "outputs": [],
   "source": [
    "names = [ [\"dnc\",\"dnc\",\"crimson\",\"d\"] , [\"fb-forum\", \"fb\", \"green\",\"d\"], [\"talk_eo\", \"eo\" ,\"olive\",\"d\"],\n",
    "          [\"email-eu3\", \"eu3\", \"yellow\",\"d\"], [\"email-eu2\", \"eu2\", \"magenta\",\"d\"], \n",
    "          [\"racoon\", \"rac\", \"brown\",\"u\"], [\"primate\",\"pri\",  \"blue\",\"u\"],  [\"workplace_2013\", \"wp\", \"black\",\"u\"],\n",
    "           [\"ht09\", \"ht\",\"red\",\"u\"], [\"weaver\", \"wea\",  \"pink\",\"u\"] ]"
   ]
  },
  {
   "cell_type": "code",
   "execution_count": 66,
   "id": "8c7e6d93",
   "metadata": {},
   "outputs": [],
   "source": [
    "def find_sep(x):\n",
    "    for s in x:\n",
    "        if s not in ['0','1','2','3','4','5','6','7','8','9']:\n",
    "            return s\n",
    "    return None\n",
    "\n",
    "def read_graph(path,s, dire):\n",
    "    g = set()\n",
    "    f = open(path+s+\".csv\", \"r\")\n",
    "    sep = find_sep(f.readline())\n",
    "    f.close()\n",
    "    f = open(path+s+\".csv\", \"r\")\n",
    "    for x in f:\n",
    "        x = x[:-1]\n",
    "        r = x.split(sep)\n",
    "        u,v,t = r[0],r[1],r[2]\n",
    "        if v != u:\n",
    "            t = float(t)\n",
    "            g.add( (u,v,int(t)) )\n",
    "            if dire == \"u\":\n",
    "                g.add( (v,u,int(t)) )\n",
    "    return g\n",
    "\n",
    "def write_graph(path, s, g):\n",
    "    f = open(path+s+\".csv\", \"w\")\n",
    "    for x in g:\n",
    "        f.write( str(x) )\n",
    "    f.close()"
   ]
  },
  {
   "cell_type": "code",
   "execution_count": 67,
   "id": "ef0c4b63",
   "metadata": {},
   "outputs": [
    {
     "name": "stdout",
     "output_type": "stream",
     "text": [
      "[[('d', 1866), 'dnc', 'dnc', 'crimson', 'd'], [('d', 899), 'fb-forum', 'fb', 'green', 'd'], [('d', 7288), 'talk_eo', 'eo', 'olive', 'd'], [('d', 89), 'email-eu3', 'eu3', 'yellow', 'd'], [('d', 162), 'email-eu2', 'eu2', 'magenta', 'd'], [('u', 24), 'racoon', 'rac', 'brown', 'u'], [('u', 25), 'primate', 'pri', 'blue', 'u'], [('u', 92), 'workplace_2013', 'wp', 'black', 'u'], [('u', 113), 'ht09', 'ht', 'red', 'u'], [('u', 445), 'weaver', 'wea', 'pink', 'u']]\n",
      "[['weaver', 'wea', 'pink', 'u'], ['ht09', 'ht', 'red', 'u'], ['workplace_2013', 'wp', 'black', 'u'], ['primate', 'pri', 'blue', 'u'], ['racoon', 'rac', 'brown', 'u'], ['talk_eo', 'eo', 'olive', 'd'], ['dnc', 'dnc', 'crimson', 'd'], ['fb-forum', 'fb', 'green', 'd'], ['email-eu2', 'eu2', 'magenta', 'd'], ['email-eu3', 'eu3', 'yellow', 'd']]\n",
      "weaver &  wea & u & $ 445 $ & $ 23 $ & $ 2666 $ \\\\\n",
      "ht09 &  ht & u & $ 113 $ & $ 5246 $ & $ 41636 $ \\\\\n",
      "workplace_2013 &  wp & u & $ 92 $ & $ 7104 $ & $ 19654 $ \\\\\n",
      "primate &  pri & u & $ 25 $ & $ 19 $ & $ 2680 $ \\\\\n",
      "racoon &  rac & u & $ 24 $ & $ 52 $ & $ 3994 $ \\\\\n",
      "talk_eo &  eo & d & $ 7288 $ & $ 32352 $ & $ 37003 $ \\\\\n",
      "dnc &  dnc & d & $ 1866 $ & $ 18682 $ & $ 31727 $ \\\\\n",
      "fb-forum &  fb & d & $ 899 $ & $ 33483 $ & $ 33682 $ \\\\\n",
      "email-eu2 &  eu2 & d & $ 162 $ & $ 32340 $ & $ 46010 $ \\\\\n",
      "email-eu3 &  eu3 & d & $ 89 $ & $ 8911 $ & $ 12051 $ \\\\\n"
     ]
    }
   ],
   "source": [
    "fold_d = \"datasets/networks/\"\n",
    "for i in range(len(names)):\n",
    "    cur = fold_d + names[i][0]+\".csv\"\n",
    "    g = read_graph(fold_d,names[i][0], names[i][-1])\n",
    "#     print(names[i][0], nb_nodes(cur),nb_time_events(cur),nb_edges(cur))\n",
    "    count = (names[i][-1],len(gc.nodes(g)))\n",
    "#     count = nb_time_events(cur)\n",
    "    names[i].insert(0,count)\n",
    "print(names)\n",
    "names.sort(reverse = True)\n",
    "names = [ names[i][1:] for i in range(len(names))  ]\n",
    "print(names)\n",
    "for i in range(len(names)):\n",
    "    g = read_graph(fold_d,names[i][0], names[i][-1])\n",
    "    print(names[i][0], \"& \",names[i][1], \"&\" ,names[i][-1],   \"& $\", len(gc.nodes(g)), \"$ & $\", len(gc.events(g)), \"$ & $\" ,len(g), \"$ \\\\\\\\\")"
   ]
  },
  {
   "cell_type": "code",
   "execution_count": 126,
   "id": "dec979de",
   "metadata": {},
   "outputs": [],
   "source": [
    "def find_names(x):\n",
    "    s = \"\"\n",
    "    for i in range(len(x)):\n",
    "        e = x[i]\n",
    "        if (ord(e) >= ord('a') and ord('z') >= ord(e)) or (ord(e) >= ord('A') and ord('Z') >= ord(e)) or (ord(e)>= ord('0') and ord('9')>=ord(e)) or e == '-' or e == '_':\n",
    "            s += e\n",
    "        else:\n",
    "            break\n",
    "    return s,i\n",
    "        \n",
    "def read_next_number(x,i):\n",
    "    num = \"\"\n",
    "    while (i < len(x)) and (not ((ord(x[i]) >= ord('0') and ord('9') >= ord(x[i]) ))):\n",
    "        i += 1\n",
    "    if i >= len(x):\n",
    "        return False\n",
    "    \n",
    "    #first part\n",
    "    while (ord(x[i]) >= ord('0') and ord('9') >= ord(x[i]) ):\n",
    "        num += x[i]\n",
    "        i += 1\n",
    "    if (x[i] != '.'):\n",
    "        return float(num), i+1\n",
    "    else:\n",
    "        num += '.'\n",
    "        i += 1\n",
    "        \n",
    "    #second part\n",
    "    while (ord(x[i]) >= ord('0') and ord('9') >= ord(x[i]) ):\n",
    "        num += x[i]\n",
    "        i += 1\n",
    "    return float(num), i+1\n",
    "    \n",
    "def add_line(x,st = 0):\n",
    "    l = []\n",
    "    nb,ind = read_next_number(x,st)\n",
    "    l.append(nb)\n",
    "    while True:\n",
    "        res = read_next_number(x,ind)\n",
    "        if type(res) != bool:\n",
    "            nb,ind = res\n",
    "            l.append(nb)\n",
    "        else:\n",
    "            break\n",
    "    return l\n",
    "    \n",
    "def read_tex(s):\n",
    "    f = open(s,\"r\")\n",
    "    d = dict()\n",
    "    i = 0\n",
    "    for x in f:\n",
    "        av = []\n",
    "        dev = []\n",
    "        x = x[:-1]\n",
    "        if i%2 == 0:\n",
    "            nam,ind = find_names(x)\n",
    "            d[nam] = dict()\n",
    "        if i%2 == 0:\n",
    "            d[nam][\"av\"] = add_line(x,ind)  \n",
    "        else:\n",
    "            d[nam][\"dev\"] = add_line(x)\n",
    "        i += 1\n",
    "    f.close()\n",
    "    return d"
   ]
  },
  {
   "cell_type": "code",
   "execution_count": 131,
   "id": "1a71bd27",
   "metadata": {},
   "outputs": [],
   "source": [
    "def renorm_d(names,d):\n",
    "    for i in range(len(names)):\n",
    "        cur = fold_d + names[i][0]+\".csv\"\n",
    "        g = read_graph(fold_d,names[i][0], names[i][-1])\n",
    "        for j in range(len(d[names[i][1]][\"av\"])):\n",
    "            d[names[i][1]][\"av\"][j] = d[names[i][1]][\"av\"][j]/len(g)\n",
    "        for j in range(len(d[names[i][1]][\"dev\"])):\n",
    "            d[names[i][1]][\"dev\"][j] = d[names[i][1]][\"dev\"][j]/len(g)\n",
    "    return d"
   ]
  },
  {
   "cell_type": "code",
   "execution_count": 161,
   "id": "0a02aeea",
   "metadata": {},
   "outputs": [],
   "source": [
    "d = read_tex(\"table_charac__clus.tex\")"
   ]
  },
  {
   "cell_type": "code",
   "execution_count": 167,
   "id": "6e98c166",
   "metadata": {},
   "outputs": [],
   "source": [
    "d = read_tex(\"table_charac__tri.tex\")"
   ]
  },
  {
   "cell_type": "code",
   "execution_count": 168,
   "id": "4cca2747",
   "metadata": {},
   "outputs": [],
   "source": [
    "d = renorm_d(names,d)"
   ]
  },
  {
   "cell_type": "code",
   "execution_count": 169,
   "id": "39e03c87",
   "metadata": {},
   "outputs": [],
   "source": [
    "def format_d(d, names):\n",
    "    for e in names:\n",
    "        print(e[1]+\" & \", end = \"\")\n",
    "        val = d[e[1]][\"av\"][0]\n",
    "        closest = min( list(map( lambda x : abs(val-x) ,d[e[1]][\"av\"][1:])) )\n",
    "        for j in range(len((d[e[1]][\"av\"]))):\n",
    "            ee = d[e[1]][\"av\"][j]\n",
    "            dev = d[e[1]][\"dev\"][j]\n",
    "            if abs(val-ee) == closest and j > 0:\n",
    "                print( '$\\mathbf{ '+'{:.2f}'.format(ee)+' ('+ '{:.2f}'.format(dev) +') } $ & ', end = \"\" )\n",
    "            else:\n",
    "                if j>0:\n",
    "                    print( '$'+'{:.2f}'.format(ee)+' ( '+ '{:.2f}'.format(dev) +')$ & ', end = \"\" )\n",
    "                else:\n",
    "                    print( '$'+'{:.2f}'.format(ee)+'$ & ', end = \"\" )\n",
    "                    \n",
    "        print(\"\\\\\\\\\")"
   ]
  },
  {
   "cell_type": "code",
   "execution_count": 170,
   "id": "ca133869",
   "metadata": {},
   "outputs": [
    {
     "name": "stdout",
     "output_type": "stream",
     "text": [
      "wea & $1.55$ & $\\mathbf{ 1.54 (0.00) } $ & $1.43 ( 0.01)$ & $0.96 ( 0.02)$ & $0.06 ( 0.01)$ & \\\\\n",
      "ht & $0.45$ & $\\mathbf{ 0.45 (0.05) } $ & $0.45 ( 0.27)$ & $2.21 ( 2.03)$ & $2.13 ( 1.42)$ & \\\\\n",
      "wp & $2.38$ & $\\mathbf{ 2.38 (0.00) } $ & $\\mathbf{ 2.38 (0.00) } $ & $1.43 ( 2.65)$ & $0.96 ( 1.04)$ & \\\\\n",
      "pri & $27.73$ & $\\mathbf{ 27.73 (0.06) } $ & $27.74 ( 0.03)$ & $27.35 ( 1.43)$ & $26.36 ( 1.30)$ & \\\\\n",
      "rac & $7.20$ & $\\mathbf{ 7.20 (0.00) } $ & $7.19 ( 0.28)$ & $7.13 ( 2.40)$ & $6.97 ( 2.02)$ & \\\\\n",
      "eo & $0.99$ & $\\mathbf{ 0.97 (1.12) } $ & $0.96 ( 1.39)$ & $0.00 ( 0.00)$ & $0.00 ( 0.00)$ & \\\\\n",
      "dnc & $2.14$ & $\\mathbf{ 2.12 (0.93) } $ & $2.06 ( 0.82)$ & $0.05 ( 0.01)$ & $0.05 ( 0.00)$ & \\\\\n",
      "fb & $1.32$ & $\\mathbf{ 1.28 (0.02) } $ & $1.05 ( 0.05)$ & $0.50 ( 0.03)$ & $0.51 ( 0.02)$ & \\\\\n",
      "eu2 & $0.33$ & $\\mathbf{ 0.33 (0.48) } $ & $0.31 ( 0.54)$ & $1.54 ( 0.47)$ & $1.59 ( 0.55)$ & \\\\\n",
      "eu3 & $5.95$ & $\\mathbf{ 5.89 (0.70) } $ & $5.19 ( 4.35)$ & $6.67 ( 1.69)$ & $6.90 ( 1.82)$ & \\\\\n"
     ]
    }
   ],
   "source": [
    "format_d(d, names)"
   ]
  },
  {
   "cell_type": "code",
   "execution_count": null,
   "id": "33cbdf6e",
   "metadata": {},
   "outputs": [],
   "source": []
  }
 ],
 "metadata": {
  "kernelspec": {
   "display_name": "Python 3 (ipykernel)",
   "language": "python",
   "name": "python3"
  },
  "language_info": {
   "codemirror_mode": {
    "name": "ipython",
    "version": 3
   },
   "file_extension": ".py",
   "mimetype": "text/x-python",
   "name": "python",
   "nbconvert_exporter": "python",
   "pygments_lexer": "ipython3",
   "version": "3.10.12"
  }
 },
 "nbformat": 4,
 "nbformat_minor": 5
}
