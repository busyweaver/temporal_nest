{
 "cells": [
  {
   "cell_type": "code",
   "execution_count": 4,
   "id": "3bc76ad9",
   "metadata": {},
   "outputs": [
    {
     "name": "stderr",
     "output_type": "stream",
     "text": [
      "/home/mehdi/.sage/local/lib/python3.10/site-packages/matplotlib/projections/__init__.py:63: UserWarning: Unable to import Axes3D. This may be due to multiple versions of Matplotlib being installed (e.g. as a system package and as a pip package). As a result, the 3D projection is not available.\n",
      "  warnings.warn(\"Unable to import Axes3D. This may be due to multiple versions of \"\n"
     ]
    }
   ],
   "source": [
    "import graph_characteristics_lib as gc"
   ]
  },
  {
   "cell_type": "code",
   "execution_count": 17,
   "id": "fcff6524",
   "metadata": {},
   "outputs": [],
   "source": [
    "def find_sep(x):\n",
    "    for s in x:\n",
    "        if s not in ['0','1','2','3','4','5','6','7','8','9']:\n",
    "            return s\n",
    "    return None\n",
    "\n",
    "def read_graph(path,s, dire):\n",
    "    g = set()\n",
    "    f = open(path+s, \"r\")\n",
    "    sep = find_sep(f.readline())\n",
    "    f.close()\n",
    "    f = open(path+s, \"r\")\n",
    "    for x in f:\n",
    "        x = x[:-1]\n",
    "        r = x.split(sep)\n",
    "        u,v,t = r[0],r[1],r[2]\n",
    "        if v != u:\n",
    "            t = float(t)\n",
    "            g.add( (u,v,int(t)) )\n",
    "            if dire == \"u\":\n",
    "                g.add( (v,u,int(t)) )\n",
    "    return g\n",
    "\n",
    "def write_graph(path, s, g):\n",
    "    g = set()\n",
    "    f = open(path+s+\".csv\", \"w\")\n",
    "    for x in g:\n",
    "        f.write( str(x) )\n",
    "    f.close()"
   ]
  },
  {
   "cell_type": "code",
   "execution_count": 19,
   "id": "ceea675b",
   "metadata": {},
   "outputs": [
    {
     "name": "stdout",
     "output_type": "stream",
     "text": [
      "email-eu3.csv 89 8911 12051\n",
      "hospital_ward.csv 75 9453 32424\n",
      "talk_cy.csv 2101 6865 8123\n",
      "highschool_2011.csv 126 5609 28539\n",
      "primate.csv 25 19 1340\n",
      "college.csv 1899 58911 59798\n",
      "opsahl.csv 1899 58911 59798\n",
      "racoon.csv 24 52 1997\n",
      "soc-bitcoin.csv 5881 35427 35592\n",
      "talk_eo.csv 7288 32352 37003\n",
      "weaver.csv 445 23 1355\n",
      "email-eu2.csv 162 32340 46010\n",
      "fb-forum.csv 899 33483 33682\n",
      "ht09.csv 113 5246 20818\n",
      "workplace_2013.csv 92 7104 9827\n",
      "dnc.csv 1866 18682 31727\n",
      "dblp.csv 12590 30 49744\n"
     ]
    }
   ],
   "source": [
    "fold = \"datasets/networks/\"\n",
    "from os import listdir\n",
    "from os.path import isfile, join\n",
    "onlyfiles = [f for f in listdir(fold) if isfile(join(fold, f))]\n",
    "for e in onlyfiles:\n",
    "    g = read_graph(fold,e,\"d\")\n",
    "    n = len(gc.nodes(g))\n",
    "    m = len(g)\n",
    "    T = len(gc.events(g))\n",
    "    print(e,n,T,m)"
   ]
  },
  {
   "cell_type": "code",
   "execution_count": null,
   "id": "c00d6e23",
   "metadata": {},
   "outputs": [],
   "source": []
  }
 ],
 "metadata": {
  "kernelspec": {
   "display_name": "Python 3 (ipykernel)",
   "language": "python",
   "name": "python3"
  },
  "language_info": {
   "codemirror_mode": {
    "name": "ipython",
    "version": 3
   },
   "file_extension": ".py",
   "mimetype": "text/x-python",
   "name": "python",
   "nbconvert_exporter": "python",
   "pygments_lexer": "ipython3",
   "version": "3.10.12"
  }
 },
 "nbformat": 4,
 "nbformat_minor": 5
}
